{
 "cells": [
  {
   "cell_type": "code",
   "execution_count": 4,
   "id": "db6068bb",
   "metadata": {},
   "outputs": [],
   "source": [
    "import dgl\n",
    "import dgl.function as fn\n",
    "from dgl.nn import GATConv\n",
    "import torch\n",
    "import torch.nn as nn\n",
    "import torch.nn.functional as F\n",
    "from dgl.data.utils import load_graphs\n",
    "import numpy as np"
   ]
  },
  {
   "cell_type": "code",
   "execution_count": 5,
   "id": "498cab4a",
   "metadata": {},
   "outputs": [],
   "source": [
    "from ogb.lsc import MAG240MDataset\n",
    "dataset = MAG240MDataset(root = 'dataset/')\n",
    "\n",
    "number_of_papers = 100000"
   ]
  },
  {
   "cell_type": "code",
   "execution_count": 6,
   "id": "88c3ec5c",
   "metadata": {},
   "outputs": [],
   "source": [
    "#https://ogb.stanford.edu/kddcup2021/mag240m/\n",
    "\n",
    "# print(dataset.num_papers) # number of paper nodes\n",
    "# print(dataset.num_authors) # number of author nodes\n",
    "# print(dataset.num_institutions) # number of institution nodes\n",
    "# print(dataset.num_paper_features) # dimensionality of paper features\n",
    "# print(dataset.num_classes) # number of subject area classes\n",
    "\n",
    "def node_level_subsampling(g, list_of_nodes, node_numbers):\n",
    "    subsample_data = {}\n",
    "    if len(list_of_nodes) == 0:\n",
    "        raise Error('list of nodes are empty')\n",
    "    \n",
    "    for node_type in list_of_nodes:\n",
    "        subsample_data[node_type]=g.nodes(node_type)[:node_numbers]\n",
    "    \n",
    "    return dgl.node_subgraph(g,subsample_data)"
   ]
  },
  {
   "cell_type": "code",
   "execution_count": 7,
   "id": "a73a60d3",
   "metadata": {},
   "outputs": [],
   "source": [
    "\n",
    "# edge_index_writes = dataset.edge_index('author', 'writes', 'paper') \n",
    "# edge_index_writes = dataset.edge_index('author', 'paper') # edge type can be omitted and inferred by our package.\n",
    "# edge_index_cites = dataset.edge_index('paper', 'paper')\n",
    "# edge_index_affiliated_with = dataset.edge_index('author', 'institution')\n"
   ]
  },
  {
   "cell_type": "code",
   "execution_count": 8,
   "id": "f927b1e4",
   "metadata": {},
   "outputs": [],
   "source": [
    "# split_dict = dataset.get_idx_split()\n",
    "# train_idx = split_dict['train'] # numpy array storing indices of training paper nodes\n",
    "# valid_idx = split_dict['valid'] # numpy array storing indices of validation paper nodes\n",
    "# test_idx = split_dict['test'] # numpy array storing indices of testing paper nodes"
   ]
  },
  {
   "cell_type": "code",
   "execution_count": 9,
   "id": "21085167",
   "metadata": {},
   "outputs": [],
   "source": [
    "# from pprint import pprint\n",
    "# pprint(vars(dataset))"
   ]
  },
  {
   "cell_type": "code",
   "execution_count": 10,
   "id": "bc56c9bb",
   "metadata": {},
   "outputs": [],
   "source": [
    "ei_writes = dataset.edge_index('author', 'writes', 'paper')\n",
    "ei_cites = dataset.edge_index('paper', 'paper')\n",
    "ei_affiliated = dataset.edge_index('author', 'institution')\n",
    "\n",
    "# We sort the nodes starting with the papers, then the authors, then the institutions.\n",
    "\n",
    "\n"
   ]
  },
  {
   "cell_type": "code",
   "execution_count": 11,
   "id": "83f6a024",
   "metadata": {},
   "outputs": [],
   "source": [
    "author_offset = 0\n",
    "inst_offset = author_offset + dataset.num_authors\n",
    "paper_offset = inst_offset + dataset.num_institutions\n",
    "# print(inst_offset)\n",
    "# print(paper_offset)"
   ]
  },
  {
   "cell_type": "code",
   "execution_count": 12,
   "id": "786f0070",
   "metadata": {},
   "outputs": [],
   "source": [
    "ei_writes_src = ei_writes[0][:number_of_papers]\n",
    "ei_writes_dst = ei_writes[1][:number_of_papers]\n",
    "ei_affiliated_src = ei_writes[0][:number_of_papers]\n",
    "ei_affiliated_dst = ei_writes[1][:number_of_papers]\n",
    "ei_cites_src = ei_writes[0][:number_of_papers]\n",
    "ei_cites_dst = ei_writes[1][:number_of_papers]\n"
   ]
  },
  {
   "cell_type": "code",
   "execution_count": 13,
   "id": "636df11f",
   "metadata": {},
   "outputs": [],
   "source": [
    "g = dgl.heterograph({\n",
    "    ('author', 'write', 'paper'): (ei_writes_src, ei_writes_dst),\n",
    "    ('paper', 'write-by', 'author'): (ei_writes_dst, ei_writes_src),\n",
    "    ('author', 'affiliate-with', 'institution'): (ei_affiliated_src, ei_affiliated_dst),\n",
    "    ('institution', 'affiliate', 'author'): (ei_affiliated_dst, ei_affiliated_src),\n",
    "    ('paper', 'cite', 'paper'): (np.concatenate([ei_cites_src, ei_cites_dst]), np.concatenate([ei_cites_dst, ei_cites_src]))\n",
    "    })\n",
    "\n",
    "# Graph(num_nodes={'author': 1527, 'institution': 121750817, 'paper': 121750817},\n",
    "#      num_edges={('author', 'affiliate-with', 'institution'): 100000, \n",
    "#                 ('author', 'write', 'paper'): 100000, \n",
    "#                 ('institution', 'affiliate', 'author'): 100000,\n",
    "#('paper', 'cite', 'paper'): 200000, ('paper', 'write-by', 'author'): 100000},\n",
    "#      metagraph=[('author', 'institution', 'affiliate-with'), ('author', 'paper', 'write'), ('institution', 'author', 'affiliate'), ('paper', 'paper', 'cite'), ('paper', 'author', 'write-by')])\n"
   ]
  },
  {
   "cell_type": "code",
   "execution_count": 14,
   "id": "72f57b4c",
   "metadata": {},
   "outputs": [],
   "source": [
    "# print(g)"
   ]
  },
  {
   "cell_type": "code",
   "execution_count": 15,
   "id": "5b350c74",
   "metadata": {},
   "outputs": [],
   "source": [
    "# new_graph = node_level_subsampling(g, ['author','paper','institution'], 10)"
   ]
  },
  {
   "cell_type": "code",
   "execution_count": 16,
   "id": "17978c80",
   "metadata": {},
   "outputs": [],
   "source": [
    "# print(new_graph)"
   ]
  },
  {
   "cell_type": "code",
   "execution_count": 17,
   "id": "e95e4b8f",
   "metadata": {},
   "outputs": [],
   "source": [
    "# paper_feat = dataset.paper_feat\n",
    "# author_feat = np.memmap(args.author_output_path, mode='w+', dtype='float16', shape=(dataset.num_authors, dataset.num_paper_features))\n",
    "# inst_feat = np.memmap(args.inst_output_path, mode='w+', dtype='float16', shape=(dataset.num_institutions, dataset.num_paper_features))\n"
   ]
  },
  {
   "cell_type": "code",
   "execution_count": 18,
   "id": "21f454de",
   "metadata": {},
   "outputs": [],
   "source": [
    "sub_array = np.arange(number_of_papers)\n",
    "paper_feat = dataset.paper_feat[sub_array]\n"
   ]
  },
  {
   "cell_type": "code",
   "execution_count": null,
   "id": "3821a1ae",
   "metadata": {},
   "outputs": [],
   "source": [
    "author_feat = np.memmap(args.author_output_path, mode='w+', dtype='float16', shape=(dataset.num_authors, dataset.num_paper_features))\n",
    "inst_feat = np.memmap(args.inst_output_path, mode='w+', dtype='float16', shape=(dataset.num_institutions, dataset.num_paper_features))\n"
   ]
  }
 ],
 "metadata": {
  "kernelspec": {
   "display_name": "Python 3",
   "language": "python",
   "name": "python3"
  },
  "language_info": {
   "codemirror_mode": {
    "name": "ipython",
    "version": 3
   },
   "file_extension": ".py",
   "mimetype": "text/x-python",
   "name": "python",
   "nbconvert_exporter": "python",
   "pygments_lexer": "ipython3",
   "version": "3.8.8"
  }
 },
 "nbformat": 4,
 "nbformat_minor": 5
}
