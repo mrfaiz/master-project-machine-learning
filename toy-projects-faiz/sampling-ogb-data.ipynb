{
 "cells": [
  {
   "cell_type": "code",
   "execution_count": null,
   "id": "e23b1214",
   "metadata": {},
   "outputs": [
    {
     "name": "stdout",
     "output_type": "stream",
     "text": [
      "This will download 167.39GB. Will you proceed? (y/N)\n",
      "Y\n",
      "Using exist file mag240m_kddcup2021.zip\n",
      "Extracting dataset/mag240m_kddcup2021.zip\n"
     ]
    }
   ],
   "source": [
    "from ogb.lsc import MAG240MDataset\n",
    "dataset = MAG240MDataset(root = 'dataset/')\n",
    "print(dataset.num_papers)"
   ]
  },
  {
   "cell_type": "code",
   "execution_count": 3,
   "id": "e94bd4b9",
   "metadata": {},
   "outputs": [],
   "source": [
    "# pip install ogb"
   ]
  },
  {
   "cell_type": "code",
   "execution_count": 4,
   "id": "08308d81",
   "metadata": {},
   "outputs": [
    {
     "ename": "NameError",
     "evalue": "name 'dataset' is not defined",
     "output_type": "error",
     "traceback": [
      "\u001b[0;31m---------------------------------------------------------------------------\u001b[0m",
      "\u001b[0;31mNameError\u001b[0m                                 Traceback (most recent call last)",
      "\u001b[0;32m<ipython-input-4-6bd63a1e3d40>\u001b[0m in \u001b[0;36m<module>\u001b[0;34m\u001b[0m\n\u001b[0;32m----> 1\u001b[0;31m \u001b[0mprint\u001b[0m\u001b[0;34m(\u001b[0m\u001b[0mdataset\u001b[0m\u001b[0;34m.\u001b[0m\u001b[0mnum_papers\u001b[0m\u001b[0;34m)\u001b[0m\u001b[0;34m\u001b[0m\u001b[0;34m\u001b[0m\u001b[0m\n\u001b[0m",
      "\u001b[0;31mNameError\u001b[0m: name 'dataset' is not defined"
     ]
    }
   ],
   "source": [
    "print(dataset.num_papers)"
   ]
  },
  {
   "cell_type": "code",
   "execution_count": null,
   "id": "a62e406b",
   "metadata": {},
   "outputs": [],
   "source": []
  }
 ],
 "metadata": {
  "kernelspec": {
   "display_name": "Python 3",
   "language": "python",
   "name": "python3"
  },
  "language_info": {
   "codemirror_mode": {
    "name": "ipython",
    "version": 3
   },
   "file_extension": ".py",
   "mimetype": "text/x-python",
   "name": "python",
   "nbconvert_exporter": "python",
   "pygments_lexer": "ipython3",
   "version": "3.8.8"
  }
 },
 "nbformat": 4,
 "nbformat_minor": 5
}
