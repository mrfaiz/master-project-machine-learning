{
 "cells": [
  {
   "cell_type": "code",
   "execution_count": 1,
   "id": "6a33ebc9",
   "metadata": {},
   "outputs": [
    {
     "name": "stderr",
     "output_type": "stream",
     "text": [
      "Using backend: pytorch\n"
     ]
    }
   ],
   "source": [
    "import dgl.function as fn\n",
    "from dgl.nn import GATConv\n",
    "import torch\n",
    "import torch.nn as nn\n",
    "import torch.nn.functional as F"
   ]
  },
  {
   "cell_type": "code",
   "execution_count": 2,
   "id": "8d4ad379",
   "metadata": {},
   "outputs": [
    {
     "name": "stdout",
     "output_type": "stream",
     "text": [
      "Downloading http://snap.stanford.edu/ogb/data/nodeproppred/mag.zip\n"
     ]
    },
    {
     "name": "stderr",
     "output_type": "stream",
     "text": [
      "Downloaded 0.40 GB: 100%|████████████████████████████████████████████████████████████| 413/413 [00:32<00:00, 12.78it/s]\n"
     ]
    },
    {
     "name": "stdout",
     "output_type": "stream",
     "text": [
      "Extracting dataset\\mag.zip\n",
      "Loading necessary files...\n",
      "This might take a while.\n"
     ]
    },
    {
     "name": "stderr",
     "output_type": "stream",
     "text": [
      "100%|████████████████████████████████████████████████████████████████████████████████████████████| 1/1 [00:00<?, ?it/s]\n",
      "  0%|                                                                                            | 0/1 [00:00<?, ?it/s]"
     ]
    },
    {
     "name": "stdout",
     "output_type": "stream",
     "text": [
      "Processing graphs...\n",
      "Converting graphs into DGL objects...\n"
     ]
    },
    {
     "name": "stderr",
     "output_type": "stream",
     "text": [
      "100%|████████████████████████████████████████████████████████████████████████████████████| 1/1 [00:20<00:00, 20.80s/it]\n"
     ]
    },
    {
     "name": "stdout",
     "output_type": "stream",
     "text": [
      "Saving...\n"
     ]
    }
   ],
   "source": [
    "from ogb.nodeproppred import DglNodePropPredDataset, NodePropPredDataset\n",
    "\n",
    "dataset = DglNodePropPredDataset(name = 'ogbn-mag')\n",
    "\n",
    "split_idx = dataset.get_idx_split()\n",
    "train_idx, valid_idx, test_idx = split_idx[\"train\"], split_idx[\"valid\"], split_idx[\"test\"]\n",
    "graph, label = dataset[0] # graph: dgl graph object, label: torch tensor of shape (num_nodes, num_tasks)"
   ]
  },
  {
   "cell_type": "code",
   "execution_count": 4,
   "id": "4efd745a",
   "metadata": {},
   "outputs": [
    {
     "name": "stdout",
     "output_type": "stream",
     "text": [
      "{'name': 'ogbn-mag', 'dir_name': 'ogbn_mag', 'original_root': 'dataset', 'root': 'dataset\\\\ogbn_mag', 'meta_info': num tasks                                                                1\n",
      "num classes                                                            349\n",
      "eval metric                                                            acc\n",
      "task type                                        multiclass classification\n",
      "download_name                                                          mag\n",
      "version                                                                  2\n",
      "url                      http://snap.stanford.edu/ogb/data/nodeproppred...\n",
      "add_inverse_edge                                                     False\n",
      "has_node_attr                                                         True\n",
      "has_edge_attr                                                        False\n",
      "split                                                                 time\n",
      "additional node files                                            node_year\n",
      "additional edge files                                         edge_reltype\n",
      "is hetero                                                             True\n",
      "binary                                                               False\n",
      "Name: ogbn-mag, dtype: object, 'download_name': 'mag', 'num_tasks': 1, 'task_type': 'multiclass classification', 'eval_metric': 'acc', 'num_classes': 349, 'is_hetero': True, 'binary': False, 'graph': [Graph(num_nodes={'author': 1134649, 'field_of_study': 59965, 'institution': 8740, 'paper': 736389},\n",
      "      num_edges={('author', 'affiliated_with', 'institution'): 1043998, ('author', 'writes', 'paper'): 7145660, ('paper', 'cites', 'paper'): 5416271, ('paper', 'has_topic', 'field_of_study'): 7505078},\n",
      "      metagraph=[('author', 'institution', 'affiliated_with'), ('author', 'paper', 'writes'), ('paper', 'paper', 'cites'), ('paper', 'field_of_study', 'has_topic')])], 'labels': {'paper': tensor([[246],\n",
      "        [131],\n",
      "        [189],\n",
      "        ...,\n",
      "        [266],\n",
      "        [289],\n",
      "        [  1]])}}\n"
     ]
    }
   ],
   "source": [
    "print(vars(dataset))"
   ]
  },
  {
   "cell_type": "code",
   "execution_count": 5,
   "id": "3f6da6f6",
   "metadata": {},
   "outputs": [
    {
     "name": "stdout",
     "output_type": "stream",
     "text": [
      "Loading necessary files...\n",
      "This might take a while.\n"
     ]
    },
    {
     "name": "stderr",
     "output_type": "stream",
     "text": [
      "100%|████████████████████████████████████████████████████████████████████████████████████████████| 1/1 [00:00<?, ?it/s]"
     ]
    },
    {
     "name": "stdout",
     "output_type": "stream",
     "text": [
      "Processing graphs...\n",
      "Saving...\n"
     ]
    },
    {
     "name": "stderr",
     "output_type": "stream",
     "text": [
      "\n"
     ]
    },
    {
     "data": {
      "text/plain": [
       "NodePropPredDataset(1)"
      ]
     },
     "execution_count": 5,
     "metadata": {},
     "output_type": "execute_result"
    }
   ],
   "source": [
    "dataset1 = NodePropPredDataset(name = 'ogbn-mag')\n",
    "dataset1"
   ]
  },
  {
   "cell_type": "code",
   "execution_count": 6,
   "id": "cc21fc42",
   "metadata": {},
   "outputs": [
    {
     "data": {
      "text/plain": [
       "{'paper': array([[-0.095379,  0.040758, -0.210948, ...,  0.061569, -0.027663,\n",
       "         -0.133832],\n",
       "        [-0.151047, -0.107315, -0.221964, ...,  0.345754, -0.027737,\n",
       "         -0.218527],\n",
       "        [-0.114799, -0.175982, -0.260556, ...,  0.173058, -0.156445,\n",
       "         -0.277954],\n",
       "        ...,\n",
       "        [ 0.022815, -0.0865  ,  0.098138, ..., -0.054667, -0.207721,\n",
       "         -0.230458],\n",
       "        [-0.289148, -0.202898, -0.152454, ...,  0.104207,  0.204123,\n",
       "         -0.352805],\n",
       "        [-0.088966, -0.034788, -0.264226, ...,  0.260077, -0.087453,\n",
       "         -0.517127]], dtype=float32)}"
      ]
     },
     "execution_count": 6,
     "metadata": {},
     "output_type": "execute_result"
    }
   ],
   "source": [
    "features_mag = dataset1.graph['node_feat_dict']\n",
    "features_mag"
   ]
  },
  {
   "cell_type": "code",
   "execution_count": 7,
   "id": "15bc49cd",
   "metadata": {},
   "outputs": [
    {
     "name": "stdout",
     "output_type": "stream",
     "text": [
      "{'author': 1134649, 'field_of_study': 59965, 'institution': 8740, 'paper': 736389}\n"
     ]
    }
   ],
   "source": [
    "print(dataset1.graph['num_nodes_dict'])"
   ]
  },
  {
   "cell_type": "code",
   "execution_count": 8,
   "id": "060d6d08",
   "metadata": {},
   "outputs": [
    {
     "name": "stdout",
     "output_type": "stream",
     "text": [
      "(736389, 128)\n",
      "<class 'numpy.ndarray'>\n"
     ]
    }
   ],
   "source": [
    "print(features_mag['paper'].shape)\n",
    "print(type(features_mag['paper']))"
   ]
  },
  {
   "cell_type": "code",
   "execution_count": 9,
   "id": "34c06144",
   "metadata": {},
   "outputs": [
    {
     "data": {
      "text/plain": [
       "dgl.heterograph.DGLHeteroGraph"
      ]
     },
     "execution_count": 9,
     "metadata": {},
     "output_type": "execute_result"
    }
   ],
   "source": [
    "type(graph)"
   ]
  },
  {
   "cell_type": "code",
   "execution_count": 10,
   "id": "ca94f490",
   "metadata": {},
   "outputs": [],
   "source": [
    "graph.ndata['features']={'paper':torch.from_numpy(features_mag['paper'])}"
   ]
  },
  {
   "cell_type": "code",
   "execution_count": 11,
   "id": "89c0ef85",
   "metadata": {},
   "outputs": [
    {
     "data": {
      "text/plain": [
       "Graph(num_nodes={'author': 1134649, 'field_of_study': 59965, 'institution': 8740, 'paper': 736389},\n",
       "      num_edges={('author', 'affiliated_with', 'institution'): 1043998, ('author', 'writes', 'paper'): 7145660, ('paper', 'cites', 'paper'): 5416271, ('paper', 'has_topic', 'field_of_study'): 7505078},\n",
       "      metagraph=[('author', 'institution', 'affiliated_with'), ('author', 'paper', 'writes'), ('paper', 'paper', 'cites'), ('paper', 'field_of_study', 'has_topic')])"
      ]
     },
     "execution_count": 11,
     "metadata": {},
     "output_type": "execute_result"
    }
   ],
   "source": [
    "graph"
   ]
  },
  {
   "cell_type": "code",
   "execution_count": 12,
   "id": "598146f5",
   "metadata": {},
   "outputs": [
    {
     "data": {
      "text/plain": [
       "tensor([[-0.0954,  0.0408, -0.2109,  ...,  0.0616, -0.0277, -0.1338],\n",
       "        [-0.1510, -0.1073, -0.2220,  ...,  0.3458, -0.0277, -0.2185],\n",
       "        [-0.1148, -0.1760, -0.2606,  ...,  0.1731, -0.1564, -0.2780],\n",
       "        ...,\n",
       "        [ 0.0228, -0.0865,  0.0981,  ..., -0.0547, -0.2077, -0.2305],\n",
       "        [-0.2891, -0.2029, -0.1525,  ...,  0.1042,  0.2041, -0.3528],\n",
       "        [-0.0890, -0.0348, -0.2642,  ...,  0.2601, -0.0875, -0.5171]])"
      ]
     },
     "execution_count": 12,
     "metadata": {},
     "output_type": "execute_result"
    }
   ],
   "source": [
    "graph.ndata['features']['paper']"
   ]
  },
  {
   "cell_type": "code",
   "execution_count": 13,
   "id": "d252595e",
   "metadata": {},
   "outputs": [
    {
     "data": {
      "text/plain": [
       "{'paper': tensor([[246],\n",
       "         [131],\n",
       "         [189],\n",
       "         ...,\n",
       "         [266],\n",
       "         [289],\n",
       "         [  1]])}"
      ]
     },
     "execution_count": 13,
     "metadata": {},
     "output_type": "execute_result"
    }
   ],
   "source": [
    "label"
   ]
  },
  {
   "cell_type": "code",
   "execution_count": 16,
   "id": "fa81eecb",
   "metadata": {},
   "outputs": [],
   "source": [
    "from dgl.data.utils import save_graphs\n",
    "\n",
    "save_graphs('./ogbm-mag.bin',graph,label)"
   ]
  },
  {
   "cell_type": "code",
   "execution_count": 15,
   "id": "a4a81661",
   "metadata": {},
   "outputs": [],
   "source": [
    "def create_mask_from_idx(idx,total_nodes):\n",
    "    mask_array = np.zeros(total_nodes,dtype=bool)\n",
    "    mask_array[idx]=True\n",
    "    return mask_array"
   ]
  },
  {
   "cell_type": "code",
   "execution_count": null,
   "id": "7c4c5f88",
   "metadata": {},
   "outputs": [],
   "source": []
  }
 ],
 "metadata": {
  "kernelspec": {
   "display_name": "Python 3",
   "language": "python",
   "name": "python3"
  },
  "language_info": {
   "codemirror_mode": {
    "name": "ipython",
    "version": 3
   },
   "file_extension": ".py",
   "mimetype": "text/x-python",
   "name": "python",
   "nbconvert_exporter": "python",
   "pygments_lexer": "ipython3",
   "version": "3.9.4"
  }
 },
 "nbformat": 4,
 "nbformat_minor": 5
}
