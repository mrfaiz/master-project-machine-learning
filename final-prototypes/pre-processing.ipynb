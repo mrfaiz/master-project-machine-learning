{
 "cells": [
  {
   "cell_type": "code",
   "execution_count": 24,
   "id": "e4832e52",
   "metadata": {},
   "outputs": [],
   "source": [
    "import dgl\n",
    "import torch as th\n",
    "import os\n",
    "import numpy as np\n",
    "import pickle\n",
    "import random\n",
    "from pprint import pprint\n",
    "from scipy import sparse\n",
    "from scipy import io as sio\n",
    "from dgl import save_graphs, load_graphs\n",
    "from dgl.data.utils import makedirs, save_info, load_info\n",
    "import errno\n",
    "from ogb.nodeproppred import DglNodePropPredDataset\n",
    "from sklearn.metrics import f1_score"
   ]
  },
  {
   "cell_type": "code",
   "execution_count": 2,
   "id": "cd5cfa70",
   "metadata": {},
   "outputs": [],
   "source": [
    "def get_binary_mask(total_size, indices):\n",
    "    mask = th.zeros(total_size)\n",
    "    mask[indices] = 1\n",
    "    return mask.byte()"
   ]
  },
  {
   "cell_type": "code",
   "execution_count": 3,
   "id": "30cdbb22",
   "metadata": {},
   "outputs": [],
   "source": [
    "dataset = DglNodePropPredDataset(name = 'ogbn-mag')\n",
    "\n",
    "split_idx = dataset.get_idx_split()\n",
    "train_idx, valid_idx, test_idx = split_idx[\"train\"], split_idx[\"valid\"], split_idx[\"test\"]\n",
    "graph, label = dataset[0] # graph: dgl graph object, label: torch tensor of shape (num_nodes, num_tasks)"
   ]
  },
  {
   "cell_type": "code",
   "execution_count": 4,
   "id": "1544c3ed",
   "metadata": {},
   "outputs": [
    {
     "name": "stdout",
     "output_type": "stream",
     "text": [
      "{'paper': tensor([[246],\n",
      "        [131],\n",
      "        [189],\n",
      "        ...,\n",
      "        [266],\n",
      "        [289],\n",
      "        [  1]])}\n"
     ]
    }
   ],
   "source": [
    "print(label)"
   ]
  },
  {
   "cell_type": "code",
   "execution_count": 5,
   "id": "31e9d269",
   "metadata": {},
   "outputs": [
    {
     "data": {
      "text/plain": [
       "Graph(num_nodes={'author': 1134649, 'field_of_study': 59965, 'institution': 8740, 'paper': 736389},\n",
       "      num_edges={('author', 'affiliated_with', 'institution'): 1043998, ('author', 'writes', 'paper'): 7145660, ('paper', 'cites', 'paper'): 5416271, ('paper', 'has_topic', 'field_of_study'): 7505078},\n",
       "      metagraph=[('author', 'institution', 'affiliated_with'), ('author', 'paper', 'writes'), ('paper', 'paper', 'cites'), ('paper', 'field_of_study', 'has_topic')])"
      ]
     },
     "execution_count": 5,
     "metadata": {},
     "output_type": "execute_result"
    }
   ],
   "source": [
    "graph"
   ]
  },
  {
   "cell_type": "code",
   "execution_count": 6,
   "id": "5006eabf",
   "metadata": {},
   "outputs": [
    {
     "data": {
      "text/plain": [
       "['affiliated_with', 'writes', 'cites', 'has_topic']"
      ]
     },
     "execution_count": 6,
     "metadata": {},
     "output_type": "execute_result"
    }
   ],
   "source": [
    "graph.etypes"
   ]
  },
  {
   "cell_type": "code",
   "execution_count": 7,
   "id": "df5c1030",
   "metadata": {},
   "outputs": [],
   "source": [
    "u1,v1 = graph.edges(form='uv', etype='affiliated_with')\n",
    "u2,v2 = graph.edges(form='uv', etype='writes')\n",
    "u3,v3 = graph.edges(form='uv', etype='cites')\n",
    "u4,v4 = graph.edges(form='uv', etype='has_topic')"
   ]
  },
  {
   "cell_type": "code",
   "execution_count": 8,
   "id": "1baed452",
   "metadata": {},
   "outputs": [],
   "source": [
    "data_dict = {\n",
    "    ('author', 'ai', 'institution'): (u1, v1),\n",
    "    ('institution', 'ia', 'author'): (v1, u1),\n",
    "    ('author', 'ap', 'paper'): (u2, v2),\n",
    "    ('paper', 'pa', 'author'): (v2, u2),\n",
    "    ('paper', 'pP', 'paper'): (u3, v3),\n",
    "    ('paper', 'Pp', 'paper'): (v3, u3),\n",
    "    ('paper', 'pf', 'field_of_study'): (u4, v4),\n",
    "    ('field_of_study', 'fp', 'paper'): (v4, u4)\n",
    "}"
   ]
  },
  {
   "cell_type": "code",
   "execution_count": 9,
   "id": "9c7c6a49",
   "metadata": {},
   "outputs": [],
   "source": [
    "graph_new = dgl.heterograph(data_dict)"
   ]
  },
  {
   "cell_type": "code",
   "execution_count": 10,
   "id": "cce2b8c2",
   "metadata": {},
   "outputs": [
    {
     "data": {
      "text/plain": [
       "Graph(num_nodes={'author': 1134649, 'field_of_study': 59965, 'institution': 8740, 'paper': 736389},\n",
       "      num_edges={('author', 'ai', 'institution'): 1043998, ('author', 'ap', 'paper'): 7145660, ('field_of_study', 'fp', 'paper'): 7505078, ('institution', 'ia', 'author'): 1043998, ('paper', 'Pp', 'paper'): 5416271, ('paper', 'pP', 'paper'): 5416271, ('paper', 'pa', 'author'): 7145660, ('paper', 'pf', 'field_of_study'): 7505078},\n",
       "      metagraph=[('author', 'institution', 'ai'), ('author', 'paper', 'ap'), ('institution', 'author', 'ia'), ('paper', 'paper', 'Pp'), ('paper', 'paper', 'pP'), ('paper', 'author', 'pa'), ('paper', 'field_of_study', 'pf'), ('field_of_study', 'paper', 'fp')])"
      ]
     },
     "execution_count": 10,
     "metadata": {},
     "output_type": "execute_result"
    }
   ],
   "source": [
    "graph_new"
   ]
  },
  {
   "cell_type": "code",
   "execution_count": 11,
   "id": "99800807",
   "metadata": {},
   "outputs": [
    {
     "data": {
      "text/plain": [
       "tensor([[-0.0954,  0.0408, -0.2109,  ...,  0.0616, -0.0277, -0.1338],\n",
       "        [-0.1510, -0.1073, -0.2220,  ...,  0.3458, -0.0277, -0.2185],\n",
       "        [-0.1148, -0.1760, -0.2606,  ...,  0.1731, -0.1564, -0.2780],\n",
       "        ...,\n",
       "        [ 0.0228, -0.0865,  0.0981,  ..., -0.0547, -0.2077, -0.2305],\n",
       "        [-0.2891, -0.2029, -0.1525,  ...,  0.1042,  0.2041, -0.3528],\n",
       "        [-0.0890, -0.0348, -0.2642,  ...,  0.2601, -0.0875, -0.5171]])"
      ]
     },
     "execution_count": 11,
     "metadata": {},
     "output_type": "execute_result"
    }
   ],
   "source": [
    "graph.nodes['paper'].data['feat']"
   ]
  },
  {
   "cell_type": "code",
   "execution_count": 12,
   "id": "3767063a",
   "metadata": {},
   "outputs": [
    {
     "data": {
      "text/plain": [
       "{'paper': tensor([[-0.0954,  0.0408, -0.2109,  ...,  0.0616, -0.0277, -0.1338],\n",
       "         [-0.1510, -0.1073, -0.2220,  ...,  0.3458, -0.0277, -0.2185],\n",
       "         [-0.1148, -0.1760, -0.2606,  ...,  0.1731, -0.1564, -0.2780],\n",
       "         ...,\n",
       "         [ 0.0228, -0.0865,  0.0981,  ..., -0.0547, -0.2077, -0.2305],\n",
       "         [-0.2891, -0.2029, -0.1525,  ...,  0.1042,  0.2041, -0.3528],\n",
       "         [-0.0890, -0.0348, -0.2642,  ...,  0.2601, -0.0875, -0.5171]])}"
      ]
     },
     "execution_count": 12,
     "metadata": {},
     "output_type": "execute_result"
    }
   ],
   "source": [
    "graph_new.ndata['feat']={'paper':graph.nodes['paper'].data['feat']}\n",
    "graph_new.ndata['feat']"
   ]
  },
  {
   "cell_type": "code",
   "execution_count": 13,
   "id": "c5a17ecf",
   "metadata": {},
   "outputs": [],
   "source": [
    "#save_graphs('./mag_mp.bin', [graph_new], label)"
   ]
  },
  {
   "cell_type": "code",
   "execution_count": 14,
   "id": "45e8dec8",
   "metadata": {},
   "outputs": [
    {
     "data": {
      "text/plain": [
       "'sampler = dgl.dataloading.MultiLayerFullNeighborSampler(2)\\ndataloader = dgl.dataloading.NodeDataLoader(\\n    graph_new, train_idx, sampler,\\n    batch_size=1024,\\n    shuffle=True,\\n    drop_last=False,\\n    num_workers=4)'"
      ]
     },
     "execution_count": 14,
     "metadata": {},
     "output_type": "execute_result"
    }
   ],
   "source": [
    "\"\"\"sampler = dgl.dataloading.MultiLayerFullNeighborSampler(2)\n",
    "dataloader = dgl.dataloading.NodeDataLoader(\n",
    "    graph_new, train_idx, sampler,\n",
    "    batch_size=1024,\n",
    "    shuffle=True,\n",
    "    drop_last=False,\n",
    "    num_workers=4)\"\"\""
   ]
  },
  {
   "cell_type": "code",
   "execution_count": 15,
   "id": "a7be7b1a",
   "metadata": {},
   "outputs": [
    {
     "name": "stdout",
     "output_type": "stream",
     "text": [
      "{'paper': tensor([     0,      1,      2,  ..., 736386, 736387, 736388])}\n"
     ]
    }
   ],
   "source": [
    "print(train_idx)"
   ]
  },
  {
   "cell_type": "code",
   "execution_count": 16,
   "id": "be0e965d",
   "metadata": {},
   "outputs": [
    {
     "name": "stdout",
     "output_type": "stream",
     "text": [
      "{'paper': tensor([   332,    756,    784,  ..., 736364, 736367, 736370])}\n"
     ]
    }
   ],
   "source": [
    "print(valid_idx)"
   ]
  },
  {
   "cell_type": "code",
   "execution_count": 17,
   "id": "2709cfbc",
   "metadata": {},
   "outputs": [
    {
     "name": "stdout",
     "output_type": "stream",
     "text": [
      "{'paper': tensor([   359,    411,    608,  ..., 736358, 736384, 736385])}\n"
     ]
    }
   ],
   "source": [
    "print(test_idx)"
   ]
  },
  {
   "cell_type": "code",
   "execution_count": 18,
   "id": "348da73d",
   "metadata": {},
   "outputs": [
    {
     "data": {
      "text/plain": [
       "tensor([1, 1, 1,  ..., 1, 1, 1], dtype=torch.uint8)"
      ]
     },
     "execution_count": 18,
     "metadata": {},
     "output_type": "execute_result"
    }
   ],
   "source": [
    "train_mask = get_binary_mask(graph_new.num_nodes('paper'), train_idx['paper'])\n",
    "train_mask"
   ]
  },
  {
   "cell_type": "code",
   "execution_count": 19,
   "id": "c7a61643",
   "metadata": {},
   "outputs": [
    {
     "data": {
      "text/plain": [
       "tensor([0, 0, 0,  ..., 0, 0, 0], dtype=torch.uint8)"
      ]
     },
     "execution_count": 19,
     "metadata": {},
     "output_type": "execute_result"
    }
   ],
   "source": [
    "val_mask = get_binary_mask(graph_new.num_nodes('paper'), valid_idx['paper'])\n",
    "val_mask"
   ]
  },
  {
   "cell_type": "code",
   "execution_count": 20,
   "id": "6d4490e7",
   "metadata": {},
   "outputs": [
    {
     "data": {
      "text/plain": [
       "tensor([0, 0, 0,  ..., 0, 0, 0], dtype=torch.uint8)"
      ]
     },
     "execution_count": 20,
     "metadata": {},
     "output_type": "execute_result"
    }
   ],
   "source": [
    "test_mask = get_binary_mask(graph_new.num_nodes('paper'), test_idx['paper'])\n",
    "test_mask"
   ]
  },
  {
   "cell_type": "code",
   "execution_count": 21,
   "id": "b97457e4",
   "metadata": {},
   "outputs": [
    {
     "name": "stdout",
     "output_type": "stream",
     "text": [
      "DglNodePropPredDataset(1)\n"
     ]
    }
   ],
   "source": [
    "print(dataset)"
   ]
  },
  {
   "cell_type": "code",
   "execution_count": 22,
   "id": "3ebc79c6",
   "metadata": {},
   "outputs": [],
   "source": [
    "hg, labels  = load_graphs(\"./mag_mp.bin\", [0])"
   ]
  },
  {
   "cell_type": "code",
   "execution_count": 23,
   "id": "5d4a2300",
   "metadata": {},
   "outputs": [
    {
     "data": {
      "text/plain": [
       "Graph(num_nodes={'author': 1134649, 'field_of_study': 59965, 'institution': 8740, 'paper': 736389},\n",
       "      num_edges={('author', 'ai', 'institution'): 1043998, ('author', 'ap', 'paper'): 7145660, ('field_of_study', 'fp', 'paper'): 7505078, ('institution', 'ia', 'author'): 1043998, ('paper', 'Pp', 'paper'): 5416271, ('paper', 'pP', 'paper'): 5416271, ('paper', 'pa', 'author'): 7145660, ('paper', 'pf', 'field_of_study'): 7505078},\n",
       "      metagraph=[('author', 'institution', 'ai'), ('author', 'paper', 'ap'), ('institution', 'author', 'ia'), ('paper', 'paper', 'Pp'), ('paper', 'paper', 'pP'), ('paper', 'author', 'pa'), ('paper', 'field_of_study', 'pf'), ('field_of_study', 'paper', 'fp')])"
      ]
     },
     "execution_count": 23,
     "metadata": {},
     "output_type": "execute_result"
    }
   ],
   "source": [
    "hg[0]"
   ]
  },
  {
   "cell_type": "code",
   "execution_count": null,
   "id": "f71c7b80",
   "metadata": {},
   "outputs": [],
   "source": []
  }
 ],
 "metadata": {
  "kernelspec": {
   "display_name": "Python 3",
   "language": "python",
   "name": "python3"
  },
  "language_info": {
   "codemirror_mode": {
    "name": "ipython",
    "version": 3
   },
   "file_extension": ".py",
   "mimetype": "text/x-python",
   "name": "python",
   "nbconvert_exporter": "python",
   "pygments_lexer": "ipython3",
   "version": "3.7.0"
  }
 },
 "nbformat": 4,
 "nbformat_minor": 5
}
