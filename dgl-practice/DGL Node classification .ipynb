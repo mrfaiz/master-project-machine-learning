{
 "cells": [
  {
   "cell_type": "code",
   "execution_count": 1,
   "metadata": {},
   "outputs": [
    {
     "name": "stderr",
     "output_type": "stream",
     "text": [
      "Using backend: pytorch\n"
     ]
    }
   ],
   "source": [
    "import dgl\n",
    "import torch\n",
    "import torch.nn as nn\n",
    "import torch.nn.functional as F"
   ]
  },
  {
   "cell_type": "code",
   "execution_count": 2,
   "metadata": {},
   "outputs": [
    {
     "name": "stdout",
     "output_type": "stream",
     "text": [
      "  NumNodes: 2708\n",
      "  NumEdges: 10556\n",
      "  NumFeats: 1433\n",
      "  NumClasses: 7\n",
      "  NumTrainingSamples: 140\n",
      "  NumValidationSamples: 500\n",
      "  NumTestSamples: 1000\n",
      "Done loading data from cached files.\n",
      "Number of categories: 7\n"
     ]
    }
   ],
   "source": [
    "import dgl.data\n",
    "\n",
    "dataset = dgl.data.CoraGraphDataset()\n",
    "print('Number of categories:', dataset.num_classes)"
   ]
  },
  {
   "cell_type": "code",
   "execution_count": 3,
   "metadata": {},
   "outputs": [],
   "source": [
    "g = dataset[0]"
   ]
  },
  {
   "cell_type": "code",
   "execution_count": 4,
   "metadata": {},
   "outputs": [
    {
     "name": "stdout",
     "output_type": "stream",
     "text": [
      "Node features\n",
      "{'train_mask': tensor([ True,  True,  True,  ..., False, False, False]), 'label': tensor([3, 4, 4,  ..., 3, 3, 3]), 'val_mask': tensor([False, False, False,  ..., False, False, False]), 'test_mask': tensor([False, False, False,  ...,  True,  True,  True]), 'feat': tensor([[0., 0., 0.,  ..., 0., 0., 0.],\n",
      "        [0., 0., 0.,  ..., 0., 0., 0.],\n",
      "        [0., 0., 0.,  ..., 0., 0., 0.],\n",
      "        ...,\n",
      "        [0., 0., 0.,  ..., 0., 0., 0.],\n",
      "        [0., 0., 0.,  ..., 0., 0., 0.],\n",
      "        [0., 0., 0.,  ..., 0., 0., 0.]])}\n",
      "Edge features\n",
      "{}\n"
     ]
    }
   ],
   "source": [
    "print('Node features')\n",
    "print(g.ndata)\n",
    "print('Edge features')\n",
    "print(g.edata)"
   ]
  },
  {
   "cell_type": "code",
   "execution_count": 5,
   "metadata": {},
   "outputs": [],
   "source": [
    "from dgl.nn import GraphConv\n",
    "\n",
    "class GCN(nn.Module):\n",
    "    def __init__(self, in_feats, h_feats, num_classes):\n",
    "        super(GCN, self).__init__()\n",
    "        self.conv1 = GraphConv(in_feats, h_feats)\n",
    "        self.conv2 = GraphConv(h_feats, num_classes)\n",
    "\n",
    "    def forward(self, g, in_feat):\n",
    "        h = self.conv1(g, in_feat)\n",
    "        h = F.relu(h)\n",
    "        h = self.conv2(g, h)\n",
    "        return h\n",
    "\n",
    "# Create the model with given dimensions\n",
    "model = GCN(g.ndata['feat'].shape[1], 16, dataset.num_classes)"
   ]
  },
  {
   "cell_type": "code",
   "execution_count": 6,
   "metadata": {},
   "outputs": [
    {
     "data": {
      "text/plain": [
       "1433"
      ]
     },
     "execution_count": 6,
     "metadata": {},
     "output_type": "execute_result"
    }
   ],
   "source": [
    "g.ndata['feat'].shape[1]"
   ]
  },
  {
   "cell_type": "code",
   "execution_count": 7,
   "metadata": {},
   "outputs": [
    {
     "name": "stdout",
     "output_type": "stream",
     "text": [
      "In epoch 0, loss: 1.946, val acc: 0.190 (best 0.190), test acc: 0.199 (best 0.199)\n",
      "In epoch 5, loss: 1.891, val acc: 0.520 (best 0.630), test acc: 0.510 (best 0.634)\n",
      "In epoch 10, loss: 1.809, val acc: 0.654 (best 0.654), test acc: 0.657 (best 0.657)\n",
      "In epoch 15, loss: 1.704, val acc: 0.676 (best 0.676), test acc: 0.680 (best 0.680)\n",
      "In epoch 20, loss: 1.577, val acc: 0.682 (best 0.684), test acc: 0.694 (best 0.692)\n",
      "In epoch 25, loss: 1.429, val acc: 0.702 (best 0.702), test acc: 0.702 (best 0.701)\n",
      "In epoch 30, loss: 1.264, val acc: 0.722 (best 0.722), test acc: 0.720 (best 0.720)\n",
      "In epoch 35, loss: 1.092, val acc: 0.744 (best 0.744), test acc: 0.737 (best 0.731)\n",
      "In epoch 40, loss: 0.920, val acc: 0.750 (best 0.750), test acc: 0.745 (best 0.745)\n",
      "In epoch 45, loss: 0.759, val acc: 0.760 (best 0.760), test acc: 0.758 (best 0.756)\n",
      "In epoch 50, loss: 0.616, val acc: 0.768 (best 0.768), test acc: 0.762 (best 0.762)\n",
      "In epoch 55, loss: 0.495, val acc: 0.772 (best 0.772), test acc: 0.772 (best 0.769)\n",
      "In epoch 60, loss: 0.396, val acc: 0.774 (best 0.774), test acc: 0.773 (best 0.773)\n",
      "In epoch 65, loss: 0.318, val acc: 0.774 (best 0.776), test acc: 0.778 (best 0.775)\n",
      "In epoch 70, loss: 0.257, val acc: 0.776 (best 0.776), test acc: 0.779 (best 0.775)\n",
      "In epoch 75, loss: 0.209, val acc: 0.778 (best 0.780), test acc: 0.777 (best 0.777)\n",
      "In epoch 80, loss: 0.172, val acc: 0.778 (best 0.780), test acc: 0.774 (best 0.777)\n",
      "In epoch 85, loss: 0.144, val acc: 0.778 (best 0.780), test acc: 0.773 (best 0.777)\n",
      "In epoch 90, loss: 0.121, val acc: 0.776 (best 0.780), test acc: 0.773 (best 0.777)\n",
      "In epoch 95, loss: 0.103, val acc: 0.778 (best 0.780), test acc: 0.775 (best 0.777)\n"
     ]
    }
   ],
   "source": [
    "def train(g, model):\n",
    "    optimizer = torch.optim.Adam(model.parameters(), lr=0.01)\n",
    "    best_val_acc = 0\n",
    "    best_test_acc = 0\n",
    "\n",
    "    features = g.ndata['feat']\n",
    "    labels = g.ndata['label']\n",
    "    train_mask = g.ndata['train_mask']\n",
    "    val_mask = g.ndata['val_mask']\n",
    "    test_mask = g.ndata['test_mask']\n",
    "    for e in range(100):\n",
    "        # Forward\n",
    "        logits = model(g, features)\n",
    "\n",
    "        # Compute prediction\n",
    "        pred = logits.argmax(1)\n",
    "\n",
    "        # Compute loss\n",
    "        # Note that you should only compute the losses of the nodes in the training set.\n",
    "        loss = F.cross_entropy(logits[train_mask], labels[train_mask])\n",
    "\n",
    "        # Compute accuracy on training/validation/test\n",
    "        train_acc = (pred[train_mask] == labels[train_mask]).float().mean()\n",
    "        val_acc = (pred[val_mask] == labels[val_mask]).float().mean()\n",
    "        test_acc = (pred[test_mask] == labels[test_mask]).float().mean()\n",
    "\n",
    "        # Save the best validation accuracy and the corresponding test accuracy.\n",
    "        if best_val_acc < val_acc:\n",
    "            best_val_acc = val_acc\n",
    "            best_test_acc = test_acc\n",
    "\n",
    "        # Backward\n",
    "        optimizer.zero_grad()\n",
    "        loss.backward()\n",
    "        optimizer.step()\n",
    "\n",
    "        if e % 5 == 0:\n",
    "            print('In epoch {}, loss: {:.3f}, val acc: {:.3f} (best {:.3f}), test acc: {:.3f} (best {:.3f})'.format(\n",
    "                e, loss, val_acc, best_val_acc, test_acc, best_test_acc))\n",
    "model = GCN(g.ndata['feat'].shape[1], 16, dataset.num_classes)\n",
    "train(g, model)"
   ]
  },
  {
   "cell_type": "code",
   "execution_count": 8,
   "metadata": {},
   "outputs": [
    {
     "name": "stdout",
     "output_type": "stream",
     "text": [
      "In epoch 0, loss: 1.945, val acc: 0.146 (best 0.146), test acc: 0.149 (best 0.149)\n",
      "In epoch 5, loss: 1.896, val acc: 0.412 (best 0.450), test acc: 0.441 (best 0.512)\n",
      "In epoch 10, loss: 1.817, val acc: 0.626 (best 0.626), test acc: 0.638 (best 0.638)\n",
      "In epoch 15, loss: 1.713, val acc: 0.686 (best 0.686), test acc: 0.727 (best 0.727)\n",
      "In epoch 20, loss: 1.584, val acc: 0.682 (best 0.686), test acc: 0.719 (best 0.727)\n",
      "In epoch 25, loss: 1.434, val acc: 0.684 (best 0.688), test acc: 0.716 (best 0.720)\n",
      "In epoch 30, loss: 1.267, val acc: 0.700 (best 0.700), test acc: 0.731 (best 0.731)\n",
      "In epoch 35, loss: 1.092, val acc: 0.716 (best 0.718), test acc: 0.752 (best 0.751)\n",
      "In epoch 40, loss: 0.920, val acc: 0.722 (best 0.722), test acc: 0.749 (best 0.749)\n",
      "In epoch 45, loss: 0.760, val acc: 0.730 (best 0.730), test acc: 0.752 (best 0.754)\n",
      "In epoch 50, loss: 0.618, val acc: 0.730 (best 0.730), test acc: 0.755 (best 0.754)\n",
      "In epoch 55, loss: 0.499, val acc: 0.732 (best 0.732), test acc: 0.756 (best 0.755)\n",
      "In epoch 60, loss: 0.401, val acc: 0.734 (best 0.734), test acc: 0.756 (best 0.756)\n",
      "In epoch 65, loss: 0.324, val acc: 0.732 (best 0.734), test acc: 0.761 (best 0.756)\n",
      "In epoch 70, loss: 0.263, val acc: 0.734 (best 0.734), test acc: 0.759 (best 0.756)\n",
      "In epoch 75, loss: 0.215, val acc: 0.738 (best 0.738), test acc: 0.762 (best 0.761)\n",
      "In epoch 80, loss: 0.178, val acc: 0.744 (best 0.744), test acc: 0.758 (best 0.759)\n",
      "In epoch 85, loss: 0.149, val acc: 0.748 (best 0.748), test acc: 0.761 (best 0.760)\n",
      "In epoch 90, loss: 0.126, val acc: 0.748 (best 0.748), test acc: 0.761 (best 0.760)\n",
      "In epoch 95, loss: 0.107, val acc: 0.750 (best 0.750), test acc: 0.763 (best 0.763)\n"
     ]
    }
   ],
   "source": [
    "g = g.to('cuda')\n",
    "model = GCN(g.ndata['feat'].shape[1], 16, dataset.num_classes).to('cuda')\n",
    "train(g, model)"
   ]
  },
  {
   "cell_type": "code",
   "execution_count": null,
   "metadata": {},
   "outputs": [],
   "source": []
  }
 ],
 "metadata": {
  "kernelspec": {
   "display_name": "Python 3",
   "language": "python",
   "name": "python3"
  },
  "language_info": {
   "codemirror_mode": {
    "name": "ipython",
    "version": 3
   },
   "file_extension": ".py",
   "mimetype": "text/x-python",
   "name": "python",
   "nbconvert_exporter": "python",
   "pygments_lexer": "ipython3",
   "version": "3.9.4"
  }
 },
 "nbformat": 4,
 "nbformat_minor": 4
}
